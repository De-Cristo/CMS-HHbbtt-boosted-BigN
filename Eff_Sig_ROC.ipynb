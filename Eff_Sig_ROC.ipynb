{
 "cells": [
  {
   "cell_type": "code",
   "execution_count": 1,
   "id": "19c014e0-e814-4a17-953f-6bba1809dd20",
   "metadata": {},
   "outputs": [
    {
     "name": "stdout",
     "output_type": "stream",
     "text": [
      "Welcome to JupyROOT 6.26/10\n"
     ]
    }
   ],
   "source": [
    "import ROOT as R\n",
    "import re\n",
    "import argparse\n",
    "from array import array\n",
    "import os\n",
    "R.EnableImplicitMT()"
   ]
  },
  {
   "cell_type": "markdown",
   "id": "148fba45-ccae-4c5d-848b-87b49f8a94bf",
   "metadata": {
    "jp-MarkdownHeadingCollapsed": true,
    "tags": []
   },
   "source": [
    "### plot functions"
   ]
  },
  {
   "cell_type": "code",
   "execution_count": 2,
   "id": "d05cc7e8-0303-4988-adcf-f791f9691ff8",
   "metadata": {},
   "outputs": [],
   "source": [
    "def add_lumi(year):\n",
    "    lowX=0.55\n",
    "    lowY=0.835\n",
    "    lumi  = R.TPaveText(lowX, lowY+0.06, lowX+0.30, lowY+0.16, \"NDC\")\n",
    "    lumi.SetBorderSize(   0 )\n",
    "    lumi.SetFillStyle(    0 )\n",
    "    lumi.SetTextAlign(   12 )\n",
    "    lumi.SetTextColor(    1 )\n",
    "    lumi.SetTextSize(0.06)\n",
    "    lumi.SetTextFont (   42 )\n",
    "    if (year==\"2018\"): lumi.AddText(\"2018, 60 fb^{-1} (13 TeV)\")\n",
    "    if (year==\"2017\"): lumi.AddText(\"2017, 41 fb^{-1} (13 TeV)\")\n",
    "    if (year==\"2016\"): lumi.AddText(\"2016, 36 fb^{-1} (13 TeV)\")\n",
    "    return lumi\n",
    "\n",
    "def add_CMS():\n",
    "    lowX=0.11\n",
    "    lowY=0.835\n",
    "    lumi  = R.TPaveText(lowX, lowY+0.06, lowX+0.15, lowY+0.16, \"NDC\")\n",
    "    lumi.SetTextFont(61)\n",
    "    lumi.SetTextSize(0.08)\n",
    "    lumi.SetBorderSize(   0 )\n",
    "    lumi.SetFillStyle(    0 )\n",
    "    lumi.SetTextAlign(   12 )\n",
    "    lumi.SetTextColor(    1 )\n",
    "    lumi.AddText(\"CMS\")\n",
    "    return lumi\n",
    "\n",
    "def add_Preliminary():\n",
    "    lowX=0.25\n",
    "    lowY=0.835\n",
    "    lumi  = R.TPaveText(lowX, lowY+0.06, lowX+0.15, lowY+0.16, \"NDC\")\n",
    "    lumi.SetTextFont(52)\n",
    "    lumi.SetTextSize(0.06)\n",
    "    lumi.SetBorderSize(   0 )\n",
    "    lumi.SetFillStyle(    0 )\n",
    "    lumi.SetTextAlign(   12 )\n",
    "    lumi.SetTextColor(    1 )\n",
    "    lumi.AddText(\"Preliminary\")\n",
    "    return lumi\n",
    "\n",
    "def make_legend():\n",
    "        output = R.TLegend(0.5, 0.65, 0.92, 0.86, \"\", \"brNDC\")\n",
    "        output.SetNColumns(2)\n",
    "        output.SetLineWidth(0)\n",
    "        output.SetLineStyle(0)\n",
    "        output.SetFillStyle(0)\n",
    "        output.SetBorderSize(0)\n",
    "        output.SetTextFont(62)\n",
    "        return output\n",
    "\n",
    "def make_legend2():\n",
    "        output = R.TLegend(0.45, 0.6, 0.92, 0.86, \"\", \"brNDC\")\n",
    "        output.SetNColumns(2)\n",
    "        output.SetLineWidth(0)\n",
    "        output.SetLineStyle(0)\n",
    "        output.SetFillStyle(0)\n",
    "        output.SetBorderSize(0)\n",
    "        output.SetTextFont(62)\n",
    "        return output"
   ]
  },
  {
   "cell_type": "markdown",
   "id": "ce2fb736-8d96-4d3b-8aa8-a1a3a509f228",
   "metadata": {},
   "source": [
    "### basic IO"
   ]
  },
  {
   "cell_type": "code",
   "execution_count": 10,
   "id": "c2f80803-f9f3-4b5e-a98e-9675116b16f6",
   "metadata": {},
   "outputs": [],
   "source": [
    "path = \"/gwpool/users/lzhang/private/bbtt/CMS-HHbbtt-boosted-BigN/\" + \"AK8based_Out_condor/\"\n",
    "\n",
    "process_list = ['SMHH', 'DY+Jets50To100', 'DY+Jets100To250', 'DY+Jets250To400', 'DY+Jets400To650', 'DY+Jets650ToInf','VBFH', 'ggFH','TTbarHad', 'TTbarSemi', 'TTbarDiLep']\n",
    "sample_list = ['SMHH', 'DY+Jets50To100', 'DY+Jets100To250', 'DY+Jets250To400', 'DY+Jets400To650', 'DY+Jets650ToInf','VBFH', 'ggFH','TTbarHad', 'TTbarSemi', 'TTbarDiLep']\n",
    "Sig_list = ['SMHH']\n",
    "SH_list = ['VBFH', 'ggFH']\n",
    "DY_list = ['DY+Jets50To100', 'DY+Jets100To250', 'DY+Jets250To400', 'DY+Jets400To650', 'DY+Jets650ToInf']\n",
    "TT_list = ['TTbarHad', 'TTbarSemi', 'TTbarDiLep']\n",
    "\n",
    "fileset = {}\n",
    "fileset['SMHH'] = []\n",
    "fileset['VBFH'] = []\n",
    "fileset['ggFH'] = []\n",
    "fileset['DY+Jets50To100'] = []\n",
    "fileset['DY+Jets100To250'] = []\n",
    "fileset['DY+Jets250To400'] = []\n",
    "fileset['DY+Jets400To650'] = []\n",
    "fileset['DY+Jets650ToInf'] = []\n",
    "fileset['TTbarHad'] = []\n",
    "fileset['TTbarSemi'] = []\n",
    "fileset['TTbarDiLep'] = []\n",
    "# for process in process_list:\n",
    "for process in sample_list:\n",
    "    for file in os.listdir(path+process):\n",
    "        if file.endswith(\".root\"):\n",
    "            fileset[process].append(path+'/'+process+'/'+file)"
   ]
  },
  {
   "cell_type": "code",
   "execution_count": 11,
   "id": "a0167f37-c1bb-4f57-87bd-23bf394ac64e",
   "metadata": {},
   "outputs": [],
   "source": [
    "df_dict = {}\n",
    "histo_dict = {}"
   ]
  },
  {
   "cell_type": "code",
   "execution_count": 12,
   "id": "17768c03-07d7-42d7-891a-8eeee7e0ae5f",
   "metadata": {},
   "outputs": [],
   "source": [
    "interested_variables = {\"ak8jets_SoftDropMass\",\"true_weight\",\"ak8jets_Pt\",\"ak8jets_Eta\",\"ak8jets_Mass\",\"ak8jets_probHtt\",\"match_gen_tau\",\"match_gen_hav\",\"bParticleNetTauAK8JetTags_probHtt\"}\n",
    "for sample in sample_list:\n",
    "    df_dict[sample] = R.RDataFrame(\"ak8tree\", fileset[sample], interested_variables)\n",
    "    df_dict[sample+'_T1'] = df_dict[sample].Filter(\"abs(ak8jets_Eta)<2.5\").Filter(\"ak8jets_Mass>30\").Filter(\"ak8jets_Pt>250\").Filter(\"match_gen_tau==2\")\n",
    "    df_dict[sample+'_T2'] = df_dict[sample].Filter(\"abs(ak8jets_Eta)<2.5\").Filter(\"ak8jets_Mass>30\").Filter(\"ak8jets_Pt>250\").Filter(\"match_gen_tau==1\")\n",
    "    df_dict[sample+'_T3'] = df_dict[sample].Filter(\"abs(ak8jets_Eta)<2.5\").Filter(\"ak8jets_Mass>30\").Filter(\"ak8jets_Pt>250\").Filter(\"match_gen_tau==0\").Filter(\"match_gen_hav>0\")\n",
    "    df_dict[sample+'_T4'] = df_dict[sample].Filter(\"abs(ak8jets_Eta)<2.5\").Filter(\"ak8jets_Mass>30\").Filter(\"ak8jets_Pt>250\").Filter(\"match_gen_tau==0\").Filter(\"match_gen_hav==0\")\n",
    "    "
   ]
  },
  {
   "cell_type": "code",
   "execution_count": 13,
   "id": "585d1fe1-a084-4152-86e3-951603485d59",
   "metadata": {},
   "outputs": [
    {
     "name": "stdout",
     "output_type": "stream",
     "text": [
      "SMHH_T1\n",
      "SMHH_T2\n",
      "SMHH_T3\n",
      "SMHH_T4\n"
     ]
    }
   ],
   "source": [
    "for sample in Sig_list:\n",
    "    for jet_type in ['T1', 'T2', 'T3', 'T4']:\n",
    "        print(f'{sample}_{jet_type}')\n",
    "        histo_dict[f'{sample}_{jet_type}_bParticleNetTauAK8JetTags_probHtt'] = \\\n",
    "        df_dict[f'{sample}_{jet_type}'].Histo1D((\" \", \" \", 100, 0, 1), \"bParticleNetTauAK8JetTags_probHtt\", \"true_weight\").GetPtr()\n",
    "        "
   ]
  },
  {
   "cell_type": "code",
   "execution_count": 14,
   "id": "08349cba-950b-4191-ac8a-660ae141c59f",
   "metadata": {},
   "outputs": [
    {
     "name": "stdout",
     "output_type": "stream",
     "text": [
      "VBFH_T1\n",
      "VBFH_T2\n",
      "VBFH_T3\n",
      "VBFH_T4\n",
      "ggFH_T1\n",
      "ggFH_T2\n",
      "ggFH_T3\n",
      "ggFH_T4\n"
     ]
    }
   ],
   "source": [
    "for sample in SH_list:\n",
    "    for jet_type in ['T1', 'T2', 'T3', 'T4']:\n",
    "        print(f'{sample}_{jet_type}')\n",
    "        histo_dict[f'{sample}_{jet_type}_bParticleNetTauAK8JetTags_probHtt'] = \\\n",
    "        df_dict[f'{sample}_{jet_type}'].Histo1D((\" \", \" \", 100, 0, 1), \"bParticleNetTauAK8JetTags_probHtt\", \"true_weight\").GetPtr()\n",
    "        "
   ]
  },
  {
   "cell_type": "code",
   "execution_count": null,
   "id": "7fd36ebc-d0a9-48e2-a96a-9b3c9e26393f",
   "metadata": {},
   "outputs": [],
   "source": [
    "for sample in DY_list:\n",
    "    for jet_type in ['T1', 'T2', 'T3', 'T4']:\n",
    "        print(f'{sample}_{jet_type}')\n",
    "        histo_dict[f'{sample}_{jet_type}_bParticleNetTauAK8JetTags_probHtt'] = \\\n",
    "        df_dict[f'{sample}_{jet_type}'].Histo1D((\" \", \" \", 100, 0, 1), \"bParticleNetTauAK8JetTags_probHtt\", \"true_weight\").GetPtr()\n",
    "        "
   ]
  },
  {
   "cell_type": "code",
   "execution_count": 16,
   "id": "67e28ab1-4a67-45b4-b57b-f649a365f041",
   "metadata": {},
   "outputs": [
    {
     "name": "stdout",
     "output_type": "stream",
     "text": [
      "TTbarHad_T1\n",
      "TTbarHad_T2\n",
      "TTbarHad_T3\n",
      "TTbarHad_T4\n",
      "TTbarSemi_T1\n",
      "TTbarSemi_T2\n",
      "TTbarSemi_T3\n",
      "TTbarSemi_T4\n",
      "TTbarDiLep_T1\n",
      "TTbarDiLep_T2\n",
      "TTbarDiLep_T3\n",
      "TTbarDiLep_T4\n"
     ]
    },
    {
     "name": "stderr",
     "output_type": "stream",
     "text": [
      "IOStream.flush timed out\n",
      "IOStream.flush timed out\n",
      "IOStream.flush timed out\n"
     ]
    }
   ],
   "source": [
    "for sample in TT_list:\n",
    "    for jet_type in ['T1', 'T2', 'T3', 'T4']:\n",
    "        print(f'{sample}_{jet_type}')\n",
    "        histo_dict[f'{sample}_{jet_type}_bParticleNetTauAK8JetTags_probHtt'] = \\\n",
    "        df_dict[f'{sample}_{jet_type}'].Histo1D((\" \", \" \", 100, 0, 1), \"bParticleNetTauAK8JetTags_probHtt\", \"true_weight\").GetPtr()\n",
    "        "
   ]
  },
  {
   "cell_type": "code",
   "execution_count": 17,
   "id": "5ff90f55-a480-4d6e-b163-2ee4340e664b",
   "metadata": {},
   "outputs": [],
   "source": [
    "histo_dict['T1'] = histo_dict['SMHH_T1_bParticleNetTauAK8JetTags_probHtt'].Scale(0.01)\n",
    "histo_dict['T2'] = histo_dict['SMHH_T2_bParticleNetTauAK8JetTags_probHtt'].Scale(0.01)\n",
    "histo_dict['T3'] = histo_dict['SMHH_T3_bParticleNetTauAK8JetTags_probHtt'].Scale(0.01)\n",
    "histo_dict['T4'] = histo_dict['SMHH_T4_bParticleNetTauAK8JetTags_probHtt'].Scale(0.01)"
   ]
  },
  {
   "cell_type": "code",
   "execution_count": 18,
   "id": "13a94024-a1b9-42ed-a0c4-7f66be0c3da5",
   "metadata": {},
   "outputs": [
    {
     "name": "stdout",
     "output_type": "stream",
     "text": [
      "DY+Jets50To100_T1\n"
     ]
    },
    {
     "ename": "NotImplementedError",
     "evalue": "",
     "output_type": "error",
     "traceback": [
      "\u001b[0;31m---------------------------------------------------------------------------\u001b[0m",
      "\u001b[0;31mNotImplementedError\u001b[0m                       Traceback (most recent call last)",
      "Cell \u001b[0;32mIn[18], line 4\u001b[0m\n\u001b[1;32m      2\u001b[0m \u001b[38;5;28;01mfor\u001b[39;00m jet_type \u001b[38;5;129;01min\u001b[39;00m [\u001b[38;5;124m'\u001b[39m\u001b[38;5;124mT1\u001b[39m\u001b[38;5;124m'\u001b[39m, \u001b[38;5;124m'\u001b[39m\u001b[38;5;124mT2\u001b[39m\u001b[38;5;124m'\u001b[39m, \u001b[38;5;124m'\u001b[39m\u001b[38;5;124mT3\u001b[39m\u001b[38;5;124m'\u001b[39m, \u001b[38;5;124m'\u001b[39m\u001b[38;5;124mT4\u001b[39m\u001b[38;5;124m'\u001b[39m]:\n\u001b[1;32m      3\u001b[0m     \u001b[38;5;28mprint\u001b[39m(\u001b[38;5;124mf\u001b[39m\u001b[38;5;124m'\u001b[39m\u001b[38;5;132;01m{\u001b[39;00msample\u001b[38;5;132;01m}\u001b[39;00m\u001b[38;5;124m_\u001b[39m\u001b[38;5;132;01m{\u001b[39;00mjet_type\u001b[38;5;132;01m}\u001b[39;00m\u001b[38;5;124m'\u001b[39m)\n\u001b[0;32m----> 4\u001b[0m     histo_dict[\u001b[38;5;124mf\u001b[39m\u001b[38;5;124m'\u001b[39m\u001b[38;5;132;01m{\u001b[39;00mjet_type\u001b[38;5;132;01m}\u001b[39;00m\u001b[38;5;124m'\u001b[39m] \u001b[38;5;241m=\u001b[39m \u001b[43mhisto_dict\u001b[49m\u001b[43m[\u001b[49m\u001b[38;5;124;43mf\u001b[39;49m\u001b[38;5;124;43m'\u001b[39;49m\u001b[38;5;132;43;01m{\u001b[39;49;00m\u001b[43mjet_type\u001b[49m\u001b[38;5;132;43;01m}\u001b[39;49;00m\u001b[38;5;124;43m'\u001b[39;49m\u001b[43m]\u001b[49m\u001b[43m \u001b[49m\u001b[38;5;241;43m+\u001b[39;49m\u001b[43m \u001b[49m\u001b[43mhisto_dict\u001b[49m\u001b[43m[\u001b[49m\u001b[38;5;124;43mf\u001b[39;49m\u001b[38;5;124;43m'\u001b[39;49m\u001b[38;5;132;43;01m{\u001b[39;49;00m\u001b[43msample\u001b[49m\u001b[38;5;132;43;01m}\u001b[39;49;00m\u001b[38;5;124;43m_\u001b[39;49m\u001b[38;5;132;43;01m{\u001b[39;49;00m\u001b[43mjet_type\u001b[49m\u001b[38;5;132;43;01m}\u001b[39;49;00m\u001b[38;5;124;43m_bParticleNetTauAK8JetTags_probHtt\u001b[39;49m\u001b[38;5;124;43m'\u001b[39;49m\u001b[43m]\u001b[49m\n",
      "\u001b[0;31mNotImplementedError\u001b[0m: "
     ]
    }
   ],
   "source": [
    "for sample in sample_list[1:]:\n",
    "    for jet_type in ['T1', 'T2', 'T3', 'T4']:\n",
    "        print(f'{sample}_{jet_type}')\n",
    "        histo_dict[f'{jet_type}'] = histo_dict[f'{jet_type}'] + histo_dict[f'{sample}_{jet_type}_bParticleNetTauAK8JetTags_probHtt']\n",
    "        "
   ]
  },
  {
   "cell_type": "code",
   "execution_count": null,
   "id": "19eae2a5-1107-44a6-a8f6-dd0500224262",
   "metadata": {},
   "outputs": [],
   "source": [
    "## Efficiency plot\n",
    "\n",
    "histo_dict['Eff_T1'] = R.TH1F(\"Eff_T1\", \"\", 100, 0, 1)\n",
    "histo_dict['Eff_T2'] = R.TH1F(\"Eff_T2\", \"\", 100, 0, 1)\n",
    "histo_dict['Eff_T3'] = R.TH1F(\"Eff_T3\", \"\", 100, 0, 1)\n",
    "histo_dict['Eff_T4'] = R.TH1F(\"Eff_T4\", \"\", 100, 0, 1)\n",
    "\n",
    "for jet_type in ['T1', 'T2', 'T3', 'T4']:\n",
    "    for ibin in range(0,100):\n",
    "        eff = histo_dict[f'{jet_type}'].Integral(0, ibin+1)/histo_dict[f'{jet_type}'].Integral()\n",
    "        histo_dict[f'Eff_T{jet_type}'].SetBinContent(ibin+1, eff)"
   ]
  },
  {
   "cell_type": "code",
   "execution_count": null,
   "id": "78e79964-c7da-4c20-b249-4da34dba105e",
   "metadata": {},
   "outputs": [],
   "source": []
  },
  {
   "cell_type": "code",
   "execution_count": null,
   "id": "c83931d2-5392-4957-9880-5b9127697569",
   "metadata": {},
   "outputs": [],
   "source": []
  },
  {
   "cell_type": "code",
   "execution_count": null,
   "id": "4994b822-c9ac-45c1-a66c-71cf702a9e5f",
   "metadata": {},
   "outputs": [],
   "source": []
  },
  {
   "cell_type": "code",
   "execution_count": null,
   "id": "717c9af5-d281-4e75-a9dd-f19e369707b9",
   "metadata": {},
   "outputs": [],
   "source": []
  }
 ],
 "metadata": {
  "kernelspec": {
   "display_name": "my_root_env",
   "language": "python",
   "name": "my_root_env"
  },
  "language_info": {
   "codemirror_mode": {
    "name": "ipython",
    "version": 3
   },
   "file_extension": ".py",
   "mimetype": "text/x-python",
   "name": "python",
   "nbconvert_exporter": "python",
   "pygments_lexer": "ipython3",
   "version": "3.9.16"
  }
 },
 "nbformat": 4,
 "nbformat_minor": 5
}
