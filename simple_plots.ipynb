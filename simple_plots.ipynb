{
 "cells": [
  {
   "cell_type": "code",
   "execution_count": 1,
   "id": "9dc4f89b-8b18-45b1-b6e0-94ba44518570",
   "metadata": {},
   "outputs": [
    {
     "name": "stdout",
     "output_type": "stream",
     "text": [
      "Welcome to JupyROOT 6.26/10\n"
     ]
    }
   ],
   "source": [
    "import ROOT as R\n",
    "import re\n",
    "import argparse\n",
    "from array import array\n",
    "import os\n",
    "R.EnableImplicitMT()"
   ]
  },
  {
   "cell_type": "markdown",
   "id": "87b0c146-c5ec-4860-abaa-97a178fce167",
   "metadata": {
    "jp-MarkdownHeadingCollapsed": true,
    "tags": []
   },
   "source": [
    "### plot functions"
   ]
  },
  {
   "cell_type": "code",
   "execution_count": 5,
   "id": "b99693e4-bee3-4680-abf5-4e7360e70d4f",
   "metadata": {},
   "outputs": [],
   "source": [
    "def add_lumi(year):\n",
    "    lowX=0.55\n",
    "    lowY=0.835\n",
    "    lumi  = R.TPaveText(lowX, lowY+0.06, lowX+0.30, lowY+0.16, \"NDC\")\n",
    "    lumi.SetBorderSize(   0 )\n",
    "    lumi.SetFillStyle(    0 )\n",
    "    lumi.SetTextAlign(   12 )\n",
    "    lumi.SetTextColor(    1 )\n",
    "    lumi.SetTextSize(0.06)\n",
    "    lumi.SetTextFont (   42 )\n",
    "    if (year==\"2018\"): lumi.AddText(\"2018, 60 fb^{-1} (13 TeV)\")\n",
    "    if (year==\"2017\"): lumi.AddText(\"2017, 41 fb^{-1} (13 TeV)\")\n",
    "    if (year==\"2016\"): lumi.AddText(\"2016, 36 fb^{-1} (13 TeV)\")\n",
    "    return lumi"
   ]
  },
  {
   "cell_type": "code",
   "execution_count": 6,
   "id": "1cde4004-bc33-4fb7-801b-406ca9fd6947",
   "metadata": {},
   "outputs": [],
   "source": [
    "def add_CMS():\n",
    "    lowX=0.11\n",
    "    lowY=0.835\n",
    "    lumi  = R.TPaveText(lowX, lowY+0.06, lowX+0.15, lowY+0.16, \"NDC\")\n",
    "    lumi.SetTextFont(61)\n",
    "    lumi.SetTextSize(0.08)\n",
    "    lumi.SetBorderSize(   0 )\n",
    "    lumi.SetFillStyle(    0 )\n",
    "    lumi.SetTextAlign(   12 )\n",
    "    lumi.SetTextColor(    1 )\n",
    "    lumi.AddText(\"CMS\")\n",
    "    return lumi"
   ]
  },
  {
   "cell_type": "code",
   "execution_count": 7,
   "id": "d9fb9998-7c8f-47d9-9f80-a056fcb0c19d",
   "metadata": {},
   "outputs": [],
   "source": [
    "def add_Preliminary():\n",
    "    lowX=0.25\n",
    "    lowY=0.835\n",
    "    lumi  = R.TPaveText(lowX, lowY+0.06, lowX+0.15, lowY+0.16, \"NDC\")\n",
    "    lumi.SetTextFont(52)\n",
    "    lumi.SetTextSize(0.06)\n",
    "    lumi.SetBorderSize(   0 )\n",
    "    lumi.SetFillStyle(    0 )\n",
    "    lumi.SetTextAlign(   12 )\n",
    "    lumi.SetTextColor(    1 )\n",
    "    lumi.AddText(\"Preliminary\")\n",
    "    return lumi"
   ]
  },
  {
   "cell_type": "code",
   "execution_count": 8,
   "id": "26a36aa0-9f44-4ffe-901f-04e463fbc440",
   "metadata": {},
   "outputs": [],
   "source": [
    "def make_legend():\n",
    "        output = R.TLegend(0.5, 0.65, 0.92, 0.86, \"\", \"brNDC\")\n",
    "        output.SetNColumns(2)\n",
    "        output.SetLineWidth(0)\n",
    "        output.SetLineStyle(0)\n",
    "        output.SetFillStyle(0)\n",
    "        output.SetBorderSize(0)\n",
    "        output.SetTextFont(62)\n",
    "        return output\n"
   ]
  },
  {
   "cell_type": "code",
   "execution_count": 9,
   "id": "0e0e10c3-ab92-43e6-9e20-3af17ddbc3a6",
   "metadata": {
    "tags": []
   },
   "outputs": [],
   "source": [
    "def make_legend2():\n",
    "        output = R.TLegend(0.45, 0.6, 0.92, 0.86, \"\", \"brNDC\")\n",
    "        output.SetNColumns(2)\n",
    "        output.SetLineWidth(0)\n",
    "        output.SetLineStyle(0)\n",
    "        output.SetFillStyle(0)\n",
    "        output.SetBorderSize(0)\n",
    "        output.SetTextFont(62)\n",
    "        return output"
   ]
  },
  {
   "cell_type": "markdown",
   "id": "028ac164-3e18-48da-8ddb-52880fc186b6",
   "metadata": {
    "tags": []
   },
   "source": [
    "### basic IO"
   ]
  },
  {
   "cell_type": "code",
   "execution_count": 7,
   "id": "59b581de-8292-47fd-a92f-a40d24e922e4",
   "metadata": {},
   "outputs": [],
   "source": [
    "path = \"/gwpool/users/lzhang/private/bbtt/CMS-HHbbtt-boosted-BigN/\" + \"AK8based_Out_625/\"\n",
    "\n",
    "process_list = ['SMHH', 'DY+Jets50To100', 'DY+Jets100To250', 'DY+Jets250To400', 'DY+Jets400To650', 'DY+Jets650ToInf','VBFH', 'ggFH','TTbarHad', 'TTbarSemi', 'TTbarDiLep']\n",
    "sample_list = ['SMHH', 'DY+Jets50To100', 'DY+Jets100To250', 'DY+Jets250To400', 'DY+Jets400To650', 'DY+Jets650ToInf','VBFH', 'ggFH','TTbarHad', 'TTbarSemi', 'TTbarDiLep']\n",
    "DY_list = ['DY+Jets50To100', 'DY+Jets100To250', 'DY+Jets250To400', 'DY+Jets400To650', 'DY+Jets650ToInf']\n",
    "SH_list = ['VBFH', 'ggFH']\n",
    "TT_list = ['TTbarHad', 'TTbarSemi', 'TTbarDiLep']\n",
    "\n",
    "fileset = {}\n",
    "fileset['SMHH'] = []\n",
    "fileset['VBFH'] = []\n",
    "fileset['ggFH'] = []\n",
    "fileset['DY+Jets50To100'] = []\n",
    "fileset['DY+Jets100To250'] = []\n",
    "fileset['DY+Jets250To400'] = []\n",
    "fileset['DY+Jets400To650'] = []\n",
    "fileset['DY+Jets650ToInf'] = []\n",
    "fileset['TTbarHad'] = []\n",
    "fileset['TTbarSemi'] = []\n",
    "fileset['TTbarDiLep'] = []\n",
    "# for process in process_list:\n",
    "for process in sample_list:\n",
    "    for file in os.listdir(path+process):\n",
    "        if file.endswith(\".root\"):\n",
    "            fileset[process].append(path+'/'+process+'/'+file)"
   ]
  },
  {
   "cell_type": "code",
   "execution_count": 8,
   "id": "2a0dd320-2f82-4430-9056-09cd4c6c8ee7",
   "metadata": {},
   "outputs": [],
   "source": [
    "df_dict_t1 = {}\n",
    "df_dict_t2 = {}\n",
    "df_dict_t3 = {}\n",
    "df_dict_t4 = {}\n",
    "\n",
    "histo_dict_t1 = {}\n",
    "histo_dict_t2 = {}\n",
    "histo_dict_t3 = {}\n",
    "histo_dict_t4 = {}"
   ]
  },
  {
   "cell_type": "code",
   "execution_count": 9,
   "id": "8bd29da8-6a45-4861-b13b-adf7b0d12d05",
   "metadata": {},
   "outputs": [],
   "source": [
    "interested_variables = {\"ak8jets_SoftDropMass\",\"true_weight\",\"ak8jets_Pt\",\"ak8jets_Eta\",\"ak8jets_Mass\",\"ak8jets_probHtt\",\"match_gen_tau\",\"match_gen_hav\",\"match_gen_emu\",\"bParticleNetTauAK8JetTags_probHtt\"}\n",
    "for sample in sample_list:\n",
    "    df_dict[sample] = R.RDataFrame(\"ak8tree\", fileset[sample], interested_variables)\n",
    "    df_dict[sample] = df_dict[sample].Filter(\"abs(ak8jets_Eta)<2.5\").Filter(\"ak8jets_SoftDropMass>30\").Filter(\"ak8jets_Pt>250\").Filter(\"match_gen_tau==2\").Filter(\"match_gen_emu==0\")\n",
    "    # df_dict[sample] = df_dict[sample].Filter(\"abs(ak8jets_Eta)<2.5\").Filter(\"ak8jets_SoftDropMass>30\").Filter(\"ak8jets_Pt>250\").Filter(\"match_gen_tau==1\").Filter(\"match_gen_emu==0\")\n",
    "    # df_dict[sample] = df_dict[sample].Filter(\"abs(ak8jets_Eta)<2.5\").Filter(\"ak8jets_SoftDropMass>30\").Filter(\"ak8jets_Pt>250\").Filter(\"match_gen_tau==0\").Filter(\"match_gen_hav>0\")#.Filter(\"match_gen_emu==0\")\n",
    "    # df_dict[sample] = df_dict[sample].Filter(\"abs(ak8jets_Eta)<2.5\").Filter(\"ak8jets_SoftDropMass>30\").Filter(\"ak8jets_Pt>250\").Filter(\"match_gen_tau==0\").Filter(\"match_gen_hav==0\").Filter(\"match_gen_emu==0\")\n",
    "    "
   ]
  },
  {
   "cell_type": "code",
   "execution_count": 10,
   "id": "b47cf695-93b5-402f-ae1f-e3ad7c0b2a5d",
   "metadata": {},
   "outputs": [],
   "source": [
    "histo_dict['SMHH_ak8jets_SoftDropMass'] = \\\n",
    "    df_dict['SMHH'].Histo1D((\" \", \" \", 40, 0, 400), \"ak8jets_SoftDropMass\", \"true_weight\")\n",
    "\n",
    "histo_dict['SMHH_ak8jets_Mass'] = \\\n",
    "    df_dict['SMHH'].Histo1D((\" \", \" \", 40, 0, 400), \"ak8jets_Mass\", \"true_weight\")\n",
    "\n",
    "histo_dict['SMHH_ak8jets_probHtt'] = \\\n",
    "    df_dict['SMHH'].Histo1D((\" \", \" \", 50, 0, 1), \"ak8jets_probHtt\", \"true_weight\")\n",
    "\n",
    "histo_dict['SMHH_bParticleNetTauAK8JetTags_probHtt'] = \\\n",
    "    df_dict['SMHH'].Histo1D((\" \", \" \", 50, 0, 1), \"bParticleNetTauAK8JetTags_probHtt\", \"true_weight\")\n",
    "\n",
    "histo_dict['SMHH_ak8jets_Pt'] = \\\n",
    "    df_dict['SMHH'].Histo1D((\" \", \" \", 40, 0, 400), \"ak8jets_Pt\", \"true_weight\")"
   ]
  },
  {
   "cell_type": "code",
   "execution_count": 11,
   "id": "22720f90-da54-4dba-aeea-aad863f790ee",
   "metadata": {},
   "outputs": [],
   "source": [
    "for DY_proc in DY_list:\n",
    "    histo_dict[f'{DY_proc}_ak8jets_SoftDropMass'] = \\\n",
    "    df_dict[f'{DY_proc}'].Histo1D((\" \", \" \", 40, 0, 400), \"ak8jets_SoftDropMass\", \"true_weight\")\n",
    "\n",
    "    histo_dict[f'{DY_proc}_ak8jets_Mass'] = \\\n",
    "    df_dict[f'{DY_proc}'].Histo1D((\" \", \" \", 40, 0, 400), \"ak8jets_Mass\", \"true_weight\")\n",
    "\n",
    "    histo_dict[f'{DY_proc}_ak8jets_probHtt'] = \\\n",
    "    df_dict[f'{DY_proc}'].Histo1D((\" \", \" \", 50, 0, 1), \"ak8jets_probHtt\", \"true_weight\")\n",
    "\n",
    "    histo_dict[f'{DY_proc}_bParticleNetTauAK8JetTags_probHtt'] = \\\n",
    "    df_dict[f'{DY_proc}'].Histo1D((\" \", \" \", 50, 0, 1), \"bParticleNetTauAK8JetTags_probHtt\", \"true_weight\")\n",
    "    \n",
    "    histo_dict[f'{DY_proc}_ak8jets_Pt'] = \\\n",
    "    df_dict[f'{DY_proc}'].Histo1D((\" \", \" \", 40, 0, 400), \"ak8jets_Pt\", \"true_weight\")\n",
    "    \n",
    "histo_dict['DY_ak8jets_SoftDropMass'] = histo_dict['DY+Jets50To100_ak8jets_SoftDropMass'].GetPtr()\n",
    "histo_dict['DY_ak8jets_Mass'] = histo_dict['DY+Jets50To100_ak8jets_Mass'].GetPtr()\n",
    "histo_dict['DY_ak8jets_probHtt'] = histo_dict['DY+Jets50To100_ak8jets_probHtt'].GetPtr()\n",
    "histo_dict['DY_bParticleNetTauAK8JetTags_probHtt'] = histo_dict['DY+Jets50To100_bParticleNetTauAK8JetTags_probHtt'].GetPtr()\n",
    "histo_dict['DY_ak8jets_Pt'] = histo_dict['DY+Jets50To100_ak8jets_Pt'].GetPtr()\n",
    "\n",
    "\n",
    "for DY_proc in DY_list[1:]:\n",
    "    histo_dict['DY_ak8jets_SoftDropMass'] = histo_dict['DY_ak8jets_SoftDropMass'] + histo_dict[f'{DY_proc}_ak8jets_SoftDropMass'].GetPtr()\n",
    "    histo_dict['DY_ak8jets_Mass'] = histo_dict['DY_ak8jets_Mass'] + histo_dict[f'{DY_proc}_ak8jets_Mass'].GetPtr()\n",
    "    histo_dict['DY_ak8jets_probHtt'] = histo_dict['DY_ak8jets_probHtt'] + histo_dict[f'{DY_proc}_ak8jets_probHtt'].GetPtr()\n",
    "    histo_dict['DY_bParticleNetTauAK8JetTags_probHtt'] = histo_dict['DY_bParticleNetTauAK8JetTags_probHtt'] + histo_dict[f'{DY_proc}_bParticleNetTauAK8JetTags_probHtt'].GetPtr()\n",
    "    histo_dict['DY_ak8jets_Pt'] = histo_dict['DY_ak8jets_Pt'] + histo_dict[f'{DY_proc}_ak8jets_Pt'].GetPtr()\n"
   ]
  },
  {
   "cell_type": "code",
   "execution_count": 12,
   "id": "85bb2fbb-88a6-490a-988e-7b0eea2328bc",
   "metadata": {},
   "outputs": [],
   "source": [
    "for SH_proc in SH_list:\n",
    "    histo_dict[f'{SH_proc}_ak8jets_SoftDropMass'] = \\\n",
    "    df_dict[f'{SH_proc}'].Histo1D((\" \", \" \", 40, 0, 400), \"ak8jets_SoftDropMass\", \"true_weight\")\n",
    "    \n",
    "    histo_dict[f'{SH_proc}_ak8jets_Mass'] = \\\n",
    "    df_dict[f'{SH_proc}'].Histo1D((\" \", \" \", 40, 0, 400), \"ak8jets_Mass\", \"true_weight\")\n",
    "\n",
    "    histo_dict[f'{SH_proc}_ak8jets_probHtt'] = \\\n",
    "    df_dict[f'{SH_proc}'].Histo1D((\" \", \" \", 50, 0, 1), \"ak8jets_probHtt\", \"true_weight\")\n",
    "\n",
    "    histo_dict[f'{SH_proc}_bParticleNetTauAK8JetTags_probHtt'] = \\\n",
    "    df_dict[f'{SH_proc}'].Histo1D((\" \", \" \", 50, 0, 1), \"bParticleNetTauAK8JetTags_probHtt\", \"true_weight\")  \n",
    "    \n",
    "    histo_dict[f'{SH_proc}_ak8jets_Pt'] = \\\n",
    "    df_dict[f'{SH_proc}'].Histo1D((\" \", \" \", 40, 0, 400), \"ak8jets_Pt\", \"true_weight\")"
   ]
  },
  {
   "cell_type": "code",
   "execution_count": 14,
   "id": "21660fe1-861b-45ea-97d5-7793c076e29b",
   "metadata": {},
   "outputs": [
    {
     "name": "stdout",
     "output_type": "stream",
     "text": [
      "TTbarHad\n",
      "TTbarSemi\n",
      "TTbarDiLep\n",
      "TTbarSemi\n",
      "TTbarDiLep\n"
     ]
    }
   ],
   "source": [
    "for TT_proc in TT_list:\n",
    "    print(TT_proc)\n",
    "    histo_dict[f'{TT_proc}_ak8jets_SoftDropMass'] = \\\n",
    "    df_dict[f'{TT_proc}'].Histo1D((\" \", \" \", 40, 0, 400), \"ak8jets_SoftDropMass\", \"true_weight\")\n",
    "\n",
    "    # histo_dict[f'{TT_proc}_ak8jets_Mass'] = \\\n",
    "    # df_dict[f'{TT_proc}'].Histo1D((\" \", \" \", 40, 0, 400), \"ak8jets_Mass\", \"true_weight\")\n",
    "    \n",
    "    histo_dict[f'{TT_proc}_ak8jets_Pt'] = \\\n",
    "    df_dict[f'{TT_proc}'].Histo1D((\" \", \" \", 40, 0, 400), \"ak8jets_Pt\", \"true_weight\")\n",
    "\n",
    "    histo_dict[f'{TT_proc}_ak8jets_probHtt'] = \\\n",
    "    df_dict[f'{TT_proc}'].Histo1D((\" \", \" \", 50, 0, 1), \"ak8jets_probHtt\", \"true_weight\")\n",
    "\n",
    "    histo_dict[f'{TT_proc}_bParticleNetTauAK8JetTags_probHtt'] = \\\n",
    "    df_dict[f'{TT_proc}'].Histo1D((\" \", \" \", 50, 0, 1), \"bParticleNetTauAK8JetTags_probHtt\", \"true_weight\")\n",
    "    \n",
    "histo_dict['TT_ak8jets_SoftDropMass'] = histo_dict['TTbarHad_ak8jets_SoftDropMass'].GetPtr()\n",
    "# histo_dict['TT_ak8jets_Mass'] = histo_dict['TTbarHad_ak8jets_Mass'].GetPtr()\n",
    "histo_dict['TT_ak8jets_Pt'] = histo_dict['TTbarHad_ak8jets_Pt'].GetPtr()\n",
    "histo_dict['TT_ak8jets_probHtt'] = histo_dict['TTbarHad_ak8jets_probHtt'].GetPtr()\n",
    "histo_dict['TT_bParticleNetTauAK8JetTags_probHtt'] = histo_dict['TTbarHad_bParticleNetTauAK8JetTags_probHtt'].GetPtr()\n",
    "\n",
    "\n",
    "for TT_proc in TT_list[1:]:\n",
    "    print(TT_proc)\n",
    "    histo_dict['TT_ak8jets_SoftDropMass'] = histo_dict['TT_ak8jets_SoftDropMass'] + histo_dict[f'{TT_proc}_ak8jets_SoftDropMass'].GetPtr()\n",
    "    # histo_dict['TT_ak8jets_Mass'] = histo_dict['TT_ak8jets_Mass'] + histo_dict[f'{TT_proc}_ak8jets_Mass'].GetPtr()\n",
    "    histo_dict['TT_ak8jets_Pt'] = histo_dict['TT_ak8jets_Pt'] + histo_dict[f'{TT_proc}_ak8jets_Pt'].GetPtr()\n",
    "    histo_dict['TT_ak8jets_probHtt'] = histo_dict['TT_ak8jets_probHtt'] + histo_dict[f'{TT_proc}_ak8jets_probHtt'].GetPtr()\n",
    "    histo_dict['TT_bParticleNetTauAK8JetTags_probHtt'] = histo_dict['TT_bParticleNetTauAK8JetTags_probHtt'] + histo_dict[f'{TT_proc}_bParticleNetTauAK8JetTags_probHtt'].GetPtr()\n",
    "    "
   ]
  },
  {
   "cell_type": "code",
   "execution_count": 134,
   "id": "1589bbae-8b98-4576-bfc5-d4e2abb148d2",
   "metadata": {
    "collapsed": true,
    "jupyter": {
     "outputs_hidden": true
    },
    "tags": []
   },
   "outputs": [
    {
     "data": {
      "image/png": "[encoded data removed]",
      "text/plain": [
       "<IPython.core.display.Image object>"
      ]
     },
     "metadata": {},
     "output_type": "display_data"
    }
   ],
   "source": [
    "c = R.TCanvas()\n",
    "R.gStyle.SetOptStat(0000)\n",
    "histo_dict['SMHH_ak8jets_SoftDropMass'].SetLineWidth(2)\n",
    "histo_dict['SMHH_ak8jets_SoftDropMass'].SetLineColorAlpha(R.TColor.GetColor(\"#FC9DA9\"),1.0)\n",
    "histo_dict['SMHH_ak8jets_SoftDropMass'].Draw('histo')\n",
    "\n",
    "histo_dict['SMHH_ak8jets_SoftDropMass'].GetXaxis().SetTitle(\"AK8Jet mass [GeV]\")\n",
    "histo_dict['SMHH_ak8jets_SoftDropMass'].GetYaxis().SetTitle(\"AK8Jet Yields\")\n",
    "\n",
    "\n",
    "histo_dict['SMHH_ak8jets_Mass'].SetLineWidth(2)\n",
    "histo_dict['SMHH_ak8jets_Mass'].SetLineColorAlpha(R.TColor.GetColor(\"#FFDDAB\"),1.0)\n",
    "histo_dict['SMHH_ak8jets_Mass'].Draw('histo same')\n",
    "\n",
    "leg = R.TLegend(0.60,0.80,0.90,0.90)\n",
    "leg.AddEntry(histo_dict['SMHH_ak8jets_SoftDropMass'].GetPtr(), \"SoftDropMass\", \"l\")\n",
    "leg.AddEntry(histo_dict['SMHH_ak8jets_Mass'].GetPtr(), \"SoftDropMass x PNetcorr\", \"l\")\n",
    "leg.Draw('same')\n",
    "l1=add_lumi('2018')\n",
    "l1.Draw(\"same\")\n",
    "l2=add_CMS()\n",
    "l2.Draw(\"same\")\n",
    "l3=add_Preliminary()\n",
    "l3.Draw(\"same\")\n",
    "c.SetLogy()\n",
    "c.Draw()"
   ]
  },
  {
   "cell_type": "code",
   "execution_count": 138,
   "id": "5937e001-ca25-4ff7-a8bf-882172182c77",
   "metadata": {
    "collapsed": true,
    "jupyter": {
     "outputs_hidden": true
    },
    "tags": []
   },
   "outputs": [
    {
     "data": {
      "image/png": "[encoded data removed]",
      "text/plain": [
       "<IPython.core.display.Image object>"
      ]
     },
     "metadata": {},
     "output_type": "display_data"
    }
   ],
   "source": [
    "c = R.TCanvas()\n",
    "R.gStyle.SetOptStat(0000)\n",
    "histo_dict['DY_ak8jets_SoftDropMass'].SetLineWidth(2)\n",
    "histo_dict['DY_ak8jets_SoftDropMass'].SetLineColorAlpha(R.TColor.GetColor(\"#FC9DA9\"),1.0)\n",
    "histo_dict['DY_ak8jets_SoftDropMass'].Draw('histo')\n",
    "\n",
    "histo_dict['DY_ak8jets_SoftDropMass'].GetXaxis().SetTitle(\"AK8Jet mass [GeV]\")\n",
    "histo_dict['DY_ak8jets_SoftDropMass'].GetYaxis().SetTitle(\"AK8Jet Yields\")\n",
    "\n",
    "\n",
    "histo_dict['DY_ak8jets_Mass'].SetLineWidth(2)\n",
    "histo_dict['DY_ak8jets_Mass'].SetLineColorAlpha(R.TColor.GetColor(\"#FFDDAB\"),1.0)\n",
    "histo_dict['DY_ak8jets_Mass'].Draw('histo same')\n",
    "\n",
    "leg = R.TLegend(0.60,0.80,0.90,0.90)\n",
    "leg.AddEntry(histo_dict['DY_ak8jets_SoftDropMass'], \"SoftDropMass\", \"l\")\n",
    "leg.AddEntry(histo_dict['DY_ak8jets_Mass'], \"SoftDropMass x PNetcorr\", \"l\")\n",
    "leg.Draw('same')\n",
    "l1=add_lumi('2018')\n",
    "l1.Draw(\"same\")\n",
    "l2=add_CMS()\n",
    "l2.Draw(\"same\")\n",
    "l3=add_Preliminary()\n",
    "l3.Draw(\"same\")\n",
    "c.SetLogy()\n",
    "c.Draw()"
   ]
  },
  {
   "cell_type": "code",
   "execution_count": 148,
   "id": "8303b2e7-f9a1-49fb-b35f-1f7255ef6b6a",
   "metadata": {
    "collapsed": true,
    "jupyter": {
     "outputs_hidden": true
    },
    "tags": []
   },
   "outputs": [
    {
     "data": {
      "image/png": "[encoded data removed]",
      "text/plain": [
       "<IPython.core.display.Image object>"
      ]
     },
     "metadata": {},
     "output_type": "display_data"
    }
   ],
   "source": [
    "c = R.TCanvas()\n",
    "R.gStyle.SetOptStat(0000)\n",
    "histo_dict['ggFH_ak8jets_SoftDropMass'].SetLineWidth(2)\n",
    "histo_dict['ggFH_ak8jets_SoftDropMass'].SetLineColorAlpha(R.TColor.GetColor(\"#FC9DA9\"),1.0)\n",
    "histo_dict['ggFH_ak8jets_SoftDropMass'].Draw('histo')\n",
    "\n",
    "histo_dict['ggFH_ak8jets_SoftDropMass'].GetXaxis().SetTitle(\"AK8Jet mass [GeV]\")\n",
    "histo_dict['ggFH_ak8jets_SoftDropMass'].GetYaxis().SetTitle(\"AK8Jet Yields\")\n",
    "\n",
    "\n",
    "histo_dict['ggFH_ak8jets_Mass'].SetLineWidth(2)\n",
    "histo_dict['ggFH_ak8jets_Mass'].SetLineColorAlpha(R.TColor.GetColor(\"#FFDDAB\"),1.0)\n",
    "histo_dict['ggFH_ak8jets_Mass'].Draw('histo same')\n",
    "\n",
    "leg = R.TLegend(0.60,0.80,0.90,0.90)\n",
    "leg.AddEntry(histo_dict['ggFH_ak8jets_SoftDropMass'].GetPtr(), \"SoftDropMass\", \"l\")\n",
    "leg.AddEntry(histo_dict['ggFH_ak8jets_Mass'].GetPtr(), \"SoftDropMass x PNetcorr\", \"l\")\n",
    "leg.Draw('same')\n",
    "l1=add_lumi('2018')\n",
    "l1.Draw(\"same\")\n",
    "l2=add_CMS()\n",
    "l2.Draw(\"same\")\n",
    "l3=add_Preliminary()\n",
    "l3.Draw(\"same\")\n",
    "c.SetLogy()\n",
    "c.Draw()"
   ]
  },
  {
   "cell_type": "code",
   "execution_count": 15,
   "id": "63597f62-e1fe-4ac2-b2c3-af7d2e198aee",
   "metadata": {},
   "outputs": [],
   "source": [
    "stack=R.THStack(\"stack\",\" \")\n",
    "histo_dict['ggFH_ak8jets_SoftDropMass'].SetFillColorAlpha(R.TColor.GetColor('#731512'),0.9)\n",
    "stack.Add(histo_dict['ggFH_ak8jets_SoftDropMass'].GetPtr())\n",
    "histo_dict['VBFH_ak8jets_SoftDropMass'].SetFillColorAlpha(R.TColor.GetColor('#D05426'),0.9)\n",
    "stack.Add(histo_dict['VBFH_ak8jets_SoftDropMass'].GetPtr())\n",
    "histo_dict['DY_ak8jets_SoftDropMass'].SetFillColorAlpha(R.TColor.GetColor('#F4E85E'),0.9)\n",
    "stack.Add(histo_dict['DY_ak8jets_SoftDropMass'])\n",
    "histo_dict['TT_ak8jets_SoftDropMass'].SetFillColorAlpha(R.TColor.GetColor('#322E95'),0.9)\n",
    "stack.Add(histo_dict['TT_ak8jets_SoftDropMass'])"
   ]
  },
  {
   "cell_type": "code",
   "execution_count": 16,
   "id": "7de95107-5d88-4112-85b9-11a9ba60cde4",
   "metadata": {},
   "outputs": [
    {
     "data": {
      "image/png": "[encoded data removed]",
      "text/plain": [
       "<IPython.core.display.Image object>"
      ]
     },
     "metadata": {},
     "output_type": "display_data"
    }
   ],
   "source": [
    "c = R.TCanvas()\n",
    "R.gStyle.SetOptStat(0000)\n",
    "stack.Draw('histo')\n",
    "stack.GetXaxis().SetTitle(\"AK8Jet softdrop mass [GeV]\")\n",
    "stack.GetYaxis().SetTitle(\"AK8Jet Yields\")\n",
    "\n",
    "\n",
    "histo_dict['SMHH_ak8jets_SoftDropMass'].SetLineWidth(2)\n",
    "histo_dict['SMHH_ak8jets_SoftDropMass'].SetLineColorAlpha(R.TColor.GetColor(\"#950008\"),1.0)\n",
    "histo_dict['SMHH_ak8jets_SoftDropMass'].Scale(0.01)\n",
    "histo_dict['SMHH_ak8jets_SoftDropMass'].Draw('histo same')\n",
    "\n",
    "leg = R.TLegend(0.60,0.60,0.90,0.90)\n",
    "leg.AddEntry(histo_dict['ggFH_ak8jets_SoftDropMass'].GetPtr(), \"ggF H\", \"f\")\n",
    "leg.AddEntry(histo_dict['VBFH_ak8jets_SoftDropMass'].GetPtr(), \"VBF H\", \"f\")\n",
    "leg.AddEntry(histo_dict['DY_ak8jets_SoftDropMass'], \"DY\", \"f\")\n",
    "leg.AddEntry(histo_dict['TT_ak8jets_SoftDropMass'], \"TT\", \"f\")\n",
    "leg.AddEntry(histo_dict['SMHH_ak8jets_SoftDropMass'].GetPtr(), \"SM HH\", \"l\")\n",
    "leg.Draw('same')\n",
    "l1=add_lumi('2018')\n",
    "l1.Draw(\"same\")\n",
    "l2=add_CMS()\n",
    "l2.Draw(\"same\")\n",
    "l3=add_Preliminary()\n",
    "l3.Draw(\"same\")\n",
    "c.SetLogy()\n",
    "c.Draw()"
   ]
  },
  {
   "cell_type": "code",
   "execution_count": 17,
   "id": "fee65e5f-fefa-46e0-9007-4cc3e5febed1",
   "metadata": {},
   "outputs": [],
   "source": [
    "stack=R.THStack(\"stack\",\" \")\n",
    "histo_dict['ggFH_bParticleNetTauAK8JetTags_probHtt'].SetFillColorAlpha(R.TColor.GetColor('#731512'),0.9)\n",
    "stack.Add(histo_dict['ggFH_bParticleNetTauAK8JetTags_probHtt'].GetPtr())\n",
    "histo_dict['VBFH_bParticleNetTauAK8JetTags_probHtt'].SetFillColorAlpha(R.TColor.GetColor('#D05426'),0.9)\n",
    "stack.Add(histo_dict['VBFH_bParticleNetTauAK8JetTags_probHtt'].GetPtr())\n",
    "histo_dict['DY_bParticleNetTauAK8JetTags_probHtt'].SetFillColorAlpha(R.TColor.GetColor('#F4E85E'),0.9)\n",
    "stack.Add(histo_dict['DY_bParticleNetTauAK8JetTags_probHtt'])\n",
    "histo_dict['TT_bParticleNetTauAK8JetTags_probHtt'].SetFillColorAlpha(R.TColor.GetColor('#322E95'),0.9)\n",
    "stack.Add(histo_dict['TT_bParticleNetTauAK8JetTags_probHtt'])"
   ]
  },
  {
   "cell_type": "code",
   "execution_count": null,
   "id": "67e31637-a234-44ae-b879-13d67a3c0456",
   "metadata": {},
   "outputs": [],
   "source": [
    "c = R.TCanvas()\n",
    "R.gStyle.SetOptStat(0000)\n",
    "stack.Draw('histo')\n",
    "stack.GetXaxis().SetTitle(\"ParticleNetTauAK8JetTags probHtt\")\n",
    "stack.GetYaxis().SetTitle(\"AK8Jet Yields\")\n",
    "\n",
    "histo_dict['SMHH_bParticleNetTauAK8JetTags_probHtt'].SetLineWidth(2)\n",
    "histo_dict['SMHH_bParticleNetTauAK8JetTags_probHtt'].SetLineColorAlpha(R.TColor.GetColor(\"#950008\"),1.0)\n",
    "histo_dict['SMHH_bParticleNetTauAK8JetTags_probHtt'].Scale(0.01)\n",
    "histo_dict['SMHH_bParticleNetTauAK8JetTags_probHtt'].Draw('histo same')\n",
    "\n",
    "leg = R.TLegend(0.40,0.60,0.70,0.90)\n",
    "leg.AddEntry(histo_dict['ggFH_bParticleNetTauAK8JetTags_probHtt'].GetPtr(), \"ggF H\", \"f\")\n",
    "leg.AddEntry(histo_dict['VBFH_bParticleNetTauAK8JetTags_probHtt'].GetPtr(), \"VBF H\", \"f\")\n",
    "leg.AddEntry(histo_dict['DY_bParticleNetTauAK8JetTags_probHtt'], \"DY\", \"f\")\n",
    "leg.AddEntry(histo_dict['TT_bParticleNetTauAK8JetTags_probHtt'], \"TT\", \"f\")\n",
    "leg.AddEntry(histo_dict['SMHH_bParticleNetTauAK8JetTags_probHtt'].GetPtr(), \"SM HH\", \"l\")\n",
    "leg.Draw('same')\n",
    "l1=add_lumi('2018')\n",
    "l1.Draw(\"same\")\n",
    "l2=add_CMS()\n",
    "l2.Draw(\"same\")\n",
    "l3=add_Preliminary()\n",
    "l3.Draw(\"same\")\n",
    "c.SetLogy()\n",
    "c.Draw()"
   ]
  },
  {
   "cell_type": "code",
   "execution_count": null,
   "id": "e9c2e70a-8fb1-4eb8-a466-9d81b0e46c25",
   "metadata": {},
   "outputs": [],
   "source": []
  },
  {
   "cell_type": "code",
   "execution_count": null,
   "id": "7e336f33-5666-4515-ae6c-ffd5451559df",
   "metadata": {},
   "outputs": [],
   "source": []
  },
  {
   "cell_type": "code",
   "execution_count": null,
   "id": "868a2215-1fb4-4bb8-95ec-b4d129cf7002",
   "metadata": {},
   "outputs": [],
   "source": []
  },
  {
   "cell_type": "code",
   "execution_count": null,
   "id": "5f204887-ff85-4bda-9f1b-84795a4ae741",
   "metadata": {},
   "outputs": [],
   "source": []
  },
  {
   "cell_type": "code",
   "execution_count": 183,
   "id": "f5553005-9208-4778-b8de-0002cb52353b",
   "metadata": {},
   "outputs": [],
   "source": [
    "stack=R.THStack(\"stack\",\" \")\n",
    "histo_dict['ggFH_ak8jets_probHtt'].SetFillColorAlpha(R.TColor.GetColor('#731512'),0.9)\n",
    "stack.Add(histo_dict['ggFH_ak8jets_probHtt'].GetPtr())\n",
    "histo_dict['VBFH_ak8jets_probHtt'].SetFillColorAlpha(R.TColor.GetColor('#D05426'),0.9)\n",
    "stack.Add(histo_dict['VBFH_ak8jets_probHtt'].GetPtr())\n",
    "histo_dict['DY_ak8jets_probHtt'].SetFillColorAlpha(R.TColor.GetColor('#F4E85E'),0.9)\n",
    "stack.Add(histo_dict['DY_ak8jets_probHtt'])"
   ]
  },
  {
   "cell_type": "code",
   "execution_count": 187,
   "id": "edf2ae12-017c-46a8-a659-9cd971c4c804",
   "metadata": {
    "tags": []
   },
   "outputs": [
    {
     "data": {
      "image/png": "[encoded data removed]",
      "text/plain": [
       "<IPython.core.display.Image object>"
      ]
     },
     "metadata": {},
     "output_type": "display_data"
    }
   ],
   "source": [
    "c = R.TCanvas()\n",
    "R.gStyle.SetOptStat(0000)\n",
    "stack.Draw('histo')\n",
    "stack.GetXaxis().SetTitle(\"ParticleNetTauAK8JetTags probHtt\")\n",
    "stack.GetYaxis().SetTitle(\"AK8Jet Yields\")\n",
    "\n",
    "histo_dict['SMHH_ak8jets_probHtt'].SetLineWidth(2)\n",
    "histo_dict['SMHH_ak8jets_probHtt'].SetLineColorAlpha(R.TColor.GetColor(\"#950008\"),1.0)\n",
    "# histo_dict['SMHH_ak8jets_probHtt'].Scale(0.1)\n",
    "histo_dict['SMHH_ak8jets_probHtt'].Draw('histo same')\n",
    "\n",
    "leg = R.TLegend(0.40,0.60,0.70,0.90)\n",
    "leg.AddEntry(histo_dict['ggFH_ak8jets_probHtt'].GetPtr(), \"ggF H\", \"f\")\n",
    "leg.AddEntry(histo_dict['VBFH_ak8jets_probHtt'].GetPtr(), \"VBF H\", \"f\")\n",
    "leg.AddEntry(histo_dict['DY_ak8jets_probHtt'], \"DY\", \"f\")\n",
    "leg.AddEntry(histo_dict['SMHH_ak8jets_probHtt'].GetPtr(), \"SM HH\", \"l\")\n",
    "leg.Draw('same')\n",
    "l1=add_lumi('2018')\n",
    "l1.Draw(\"same\")\n",
    "l2=add_CMS()\n",
    "l2.Draw(\"same\")\n",
    "l3=add_Preliminary()\n",
    "l3.Draw(\"same\")\n",
    "c.SetLogy()\n",
    "c.Draw()"
   ]
  },
  {
   "cell_type": "code",
   "execution_count": 2,
   "id": "2fb3941d-91f7-463e-89d4-f672bfd46f67",
   "metadata": {},
   "outputs": [],
   "source": [
    "x = [0, 1, 2, 3, 4, 5, 6]\n",
    "\n",
    "name = ['pT[250, Inf]', 'pT[250, 350]', 'pT[350, 500]', 'pT[500, 750]', 'pT[750, 1000]', 'pT[1000, Inf]', 'mass [60, 130]']\n",
    "\n",
    "y1 = {'T1': [10485.10895164,  7089.14463805,  2559.1207047 ,   705.05403701,\n",
    "         102.39608081,    29.39349107,  8196.70895675], 'T2': [158667.7895058 , 105499.98704731,  41169.64075113,  10424.81179548,\n",
    "         1275.10467102,    298.24524085, 108867.88929589], 'T3': [3147413.40908895, 2022123.10024223,  859914.37355634,\n",
    "        232969.51046718,   26685.0255971 ,    5721.39922609,\n",
    "       2224618.70675172], 'T4': [1303336.51144189,  930259.82781305,  288483.07846473,\n",
    "         71572.06621985,   10243.05649137,    2778.48245289,\n",
    "        927959.99962913]}\n",
    "\n",
    "y2 = {'T1': [7379.3123122 , 5497.17963221, 1566.68607467,  266.68291633,\n",
    "         36.36536718,   12.39832181, 6345.73117773], 'T2': [100409.44770513,  70814.98108995,  23931.57894437,   5036.1354954 ,\n",
    "          511.74890863,    115.00326678,  81678.9326999 ], 'T3': [2.00185256e+06, 1.36769824e+06, 5.01759819e+05, 1.18355365e+05,\n",
    "       1.20490511e+04, 1.99008426e+03, 1.64464148e+06], 'T4': [717227.87459907, 546050.64972992, 141360.45782342,  25447.80225625,\n",
    "         3486.04567476,    882.91911471, 642582.9049296 ]}"
   ]
  },
  {
   "cell_type": "code",
   "execution_count": 3,
   "id": "478e9ddc-a9eb-46ba-9b7f-a74aff870771",
   "metadata": {},
   "outputs": [],
   "source": [
    "import numpy as np\n",
    "x = np.array(x, dtype=np.float64)\n",
    "y1_T1 = np.array(y1['T1'], dtype=np.float64)\n",
    "y1_T2 = np.array(y1['T2'], dtype=np.float64)\n",
    "y1_T3 = np.array(y1['T3'], dtype=np.float64)\n",
    "y1_T4 = np.array(y1['T4'], dtype=np.float64)\n",
    "\n",
    "y2_T1 = np.array(y2['T1'], dtype=np.float64)\n",
    "y2_T2 = np.array(y2['T2'], dtype=np.float64)\n",
    "y2_T3 = np.array(y2['T3'], dtype=np.float64)\n",
    "y2_T4 = np.array(y2['T4'], dtype=np.float64)\n",
    "\n",
    "eff_T1 = y2_T1/y1_T1\n",
    "eff_T2 = y2_T2/y1_T2\n",
    "eff_T3 = y2_T3/y1_T3\n",
    "eff_T4 = y2_T4/y1_T4"
   ]
  },
  {
   "cell_type": "code",
   "execution_count": 13,
   "id": "3481db2e-6f4f-4d0c-be5a-80ef9a94ba8d",
   "metadata": {},
   "outputs": [
    {
     "data": {
      "image/png": "[encoded data removed]",
      "text/plain": [
       "<IPython.core.display.Image object>"
      ]
     },
     "metadata": {},
     "output_type": "display_data"
    }
   ],
   "source": [
    "gr_match_eff = {}\n",
    "gr_match_eff['T1'] = R.TGraph(len(x), x, eff_T1)\n",
    "gr_match_eff['T2'] = R.TGraph(len(x), x, eff_T2)\n",
    "gr_match_eff['T3'] = R.TGraph(len(x), x, eff_T3)\n",
    "gr_match_eff['T4'] = R.TGraph(len(x), x, eff_T4)\n",
    "\n",
    "c = R.TCanvas()\n",
    "R.gStyle.SetOptStat(0000)\n",
    "# c.SetLogy()\n",
    "c.SetGridy()\n",
    "gr_match_eff['T1'].SetLineColorAlpha(R.TColor.GetColor(\"#322E95\"),1.0)\n",
    "gr_match_eff['T2'].SetLineColorAlpha(R.TColor.GetColor(\"#F4E85E\"),1.0)\n",
    "gr_match_eff['T3'].SetLineColorAlpha(R.TColor.GetColor(\"#731512\"),1.0)\n",
    "gr_match_eff['T4'].SetLineColorAlpha(R.TColor.GetColor(\"#D05426\"),1.0)\n",
    "gr_match_eff['T1'].SetMarkerColorAlpha(R.TColor.GetColor(\"#322E95\"),1.0)\n",
    "gr_match_eff['T2'].SetMarkerColorAlpha(R.TColor.GetColor(\"#F4E85E\"),1.0)\n",
    "gr_match_eff['T3'].SetMarkerColorAlpha(R.TColor.GetColor(\"#731512\"),1.0)\n",
    "gr_match_eff['T4'].SetMarkerColorAlpha(R.TColor.GetColor(\"#D05426\"),1.0)\n",
    "gr_match_eff['T1'].SetLineWidth(2)\n",
    "gr_match_eff['T2'].SetLineWidth(2)\n",
    "gr_match_eff['T3'].SetLineWidth(2)\n",
    "gr_match_eff['T4'].SetLineWidth(2)\n",
    "gr_match_eff['T1'].SetMarkerSize(2)\n",
    "gr_match_eff['T2'].SetMarkerSize(2)\n",
    "gr_match_eff['T3'].SetMarkerSize(2)\n",
    "gr_match_eff['T4'].SetMarkerSize(2)\n",
    "\n",
    "c.SetTitle(\" \")\n",
    "gr_match_eff['T1'].SetName(\" \")\n",
    "gr_match_eff['T1'].SetTitle(\" \")\n",
    "\n",
    "gr_match_eff['T1'].GetXaxis().SetTitle(\"Cats\")\n",
    "for i in x:\n",
    "    bin_index = gr_match_eff['T1'].GetXaxis().FindBin(i)\n",
    "    gr_match_eff['T1'].GetXaxis().SetBinLabel(bin_index, name[round(i)])\n",
    "    \n",
    "gr_match_eff['T1'].GetXaxis().LabelsOption('h')\n",
    "\n",
    "gr_match_eff['T1'].GetYaxis().SetTitle(\"Matching Efficiency\")\n",
    "\n",
    "gr_match_eff['T1'].GetYaxis().SetRangeUser(0, 1.05)\n",
    "\n",
    "gr_match_eff['T1'].Draw(\"APL\")\n",
    "gr_match_eff['T2'].Draw(\"PLSAME\")\n",
    "gr_match_eff['T3'].Draw(\"PLSAME\")\n",
    "gr_match_eff['T4'].Draw(\"PLSAME\")\n",
    "\n",
    "leg = R.TLegend(0.80,0.70,0.90,0.90)\n",
    "leg.AddEntry(gr_match_eff['T1'], \"T1\", \"PL\")\n",
    "leg.AddEntry(gr_match_eff['T2'], \"T2\", \"PL\")\n",
    "leg.AddEntry(gr_match_eff['T3'], \"T3\", \"PL\")\n",
    "leg.AddEntry(gr_match_eff['T4'], \"T4\", \"PL\")\n",
    "leg.Draw(\"same\")\n",
    "l1=add_lumi('2018')\n",
    "l1.Draw(\"same\")\n",
    "l2=add_CMS()\n",
    "l2.Draw(\"same\")\n",
    "l3=add_Preliminary()\n",
    "l3.Draw(\"same\")\n",
    "# c.SaveAs('match_eff.pdf')\n",
    "# c.SaveAs('match_eff.png')\n",
    "c.Draw()"
   ]
  },
  {
   "cell_type": "code",
   "execution_count": null,
   "id": "049d5fb8-86ed-430d-9f74-f87f3fd0c3bb",
   "metadata": {},
   "outputs": [],
   "source": [
    "SetTitle"
   ]
  },
  {
   "cell_type": "code",
   "execution_count": null,
   "id": "49982f57-e4e9-44ba-9721-bbdbe61841f2",
   "metadata": {},
   "outputs": [],
   "source": []
  },
  {
   "cell_type": "code",
   "execution_count": null,
   "id": "26ed8498-ab1f-4bbd-a7df-6add0ef3ea31",
   "metadata": {},
   "outputs": [],
   "source": []
  },
  {
   "cell_type": "code",
   "execution_count": null,
   "id": "7d83f53f-0399-4a08-acf5-e3be53fbb853",
   "metadata": {},
   "outputs": [],
   "source": []
  }
 ],
 "metadata": {
  "kernelspec": {
   "display_name": "my_root_env",
   "language": "python",
   "name": "my_root_env"
  },
  "language_info": {
   "codemirror_mode": {
    "name": "ipython",
    "version": 3
   },
   "file_extension": ".py",
   "mimetype": "text/x-python",
   "name": "python",
   "nbconvert_exporter": "python",
   "pygments_lexer": "ipython3",
   "version": "3.9.16"
  }
 },
 "nbformat": 4,
 "nbformat_minor": 5
}
